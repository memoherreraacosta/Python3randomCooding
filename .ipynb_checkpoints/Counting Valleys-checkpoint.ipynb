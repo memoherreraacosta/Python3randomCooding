{
 "cells": [
  {
   "cell_type": "code",
   "execution_count": null,
   "metadata": {},
   "outputs": [],
   "source": [
    "'''\n",
    "Gary is an avid hiker. He tracks his hikes meticulously, \n",
    "paying close attention to small details like topography. \n",
    "During his last hike he took exactly n steps\n",
    "\n",
    "For every step he took, he noted if it was an uphill U, or a downhill D step. \n",
    "Gary's hikes start and end at sea level and each step up or down represents 1 unit change in altitude. \n",
    "We define the following terms:\n",
    "\n",
    "A mountain is a sequence of consecutive steps above sea level, \n",
    "starting with a step up from sea level and ending with a step \n",
    "down to sea level.\n",
    "\n",
    "A valley is a sequence of consecutive steps below sea level, \n",
    "starting with a step down from sea level and ending \n",
    "with a step up to sea level.\n",
    "\n",
    "\n",
    "Complete the countingValleys function in the editor below. It must return an integer that denotes the number of valleys Gary traversed.\n",
    "\n",
    "countingValleys has the following parameter(s):\n",
    "\n",
    "n: the number of steps Gary takes\n",
    "s: a string describing his path\n",
    "\n",
    "\n",
    "Input :\n",
    "\n",
    "    8\n",
    "    UDDDUDUU\n",
    "\n",
    "Output :\n",
    "    \n",
    "    1\n",
    "\n",
    "Explanation :\n",
    "\n",
    "_/\\      _\n",
    "   \\    /\n",
    "    \\/\\/\n",
    "'''"
   ]
  },
  {
   "cell_type": "code",
   "execution_count": 7,
   "metadata": {},
   "outputs": [],
   "source": [
    "def countingValleys(n, s):\n",
    "    valley = 0\n",
    "    inValley = False \n",
    "    sL = 0 # Sea level\n",
    "\n",
    "    for i in range(n):\n",
    "\n",
    "        if(s[i] == 'D'):\n",
    "            sL -= 1\n",
    "            # Enter to a valley\n",
    "            if( sL < 0 ):\n",
    "                inValley = True\n",
    "                \n",
    "        elif(s[i] == 'U'):\n",
    "            # Out of the valley\n",
    "            sL += 1\n",
    "            if(sL == 0 and inValley):\n",
    "                valley += 1\n",
    "                inValley = False\n",
    "\n",
    "    return valley\n"
   ]
  },
  {
   "cell_type": "code",
   "execution_count": 8,
   "metadata": {},
   "outputs": [
    {
     "name": "stdout",
     "output_type": "stream",
     "text": [
      "1\n"
     ]
    }
   ],
   "source": [
    "n = 8\n",
    "s = \"UDDDUDUU\"\n",
    "print(countingValleys(n, s))"
   ]
  },
  {
   "cell_type": "code",
   "execution_count": 9,
   "metadata": {},
   "outputs": [
    {
     "name": "stdout",
     "output_type": "stream",
     "text": [
      "2\n"
     ]
    }
   ],
   "source": [
    "n = 12\n",
    "s = \"DDUUDDUDUUUD\"\n",
    "print(countingValleys(n, s))"
   ]
  },
  {
   "cell_type": "code",
   "execution_count": null,
   "metadata": {},
   "outputs": [],
   "source": []
  },
  {
   "cell_type": "code",
   "execution_count": null,
   "metadata": {},
   "outputs": [],
   "source": []
  }
 ],
 "metadata": {
  "kernelspec": {
   "display_name": "Python 3",
   "language": "python",
   "name": "python3"
  },
  "language_info": {
   "codemirror_mode": {
    "name": "ipython",
    "version": 3
   },
   "file_extension": ".py",
   "mimetype": "text/x-python",
   "name": "python",
   "nbconvert_exporter": "python",
   "pygments_lexer": "ipython3",
   "version": "3.7.1"
  }
 },
 "nbformat": 4,
 "nbformat_minor": 2
}
