{
 "cells": [
  {
   "cell_type": "code",
   "execution_count": null,
   "metadata": {},
   "outputs": [],
   "source": [
    "'''\n",
    "Given two strings, determine if they share a common substring. \n",
    "A substring may be as small as one character.\n",
    "\n",
    "For example, the words \"a\", \"and\", \"art\" share the common substring a . \n",
    "The words \"be\" and \"cat\" do not share a substring.\n",
    "\n",
    "\n",
    "Complete the function twoStrings in the editor below. \n",
    "It should return a string, either YES or NO based on whether the strings share a common substring.\n",
    "\n",
    "twoStrings has the following parameter(s):\n",
    "\n",
    "s1, s2: two strings to analyze .\n",
    "\n",
    "\n",
    "Input :\n",
    "    2\n",
    "    hello\n",
    "    world\n",
    "    hi\n",
    "    world\n",
    "    \n",
    "Output :\n",
    "    YES \n",
    "    NO\n",
    "'''"
   ]
  },
  {
   "cell_type": "code",
   "execution_count": 1,
   "metadata": {},
   "outputs": [],
   "source": [
    "# Complete the twoStrings function below.\n",
    "def twoStrings(s1, s2):\n",
    "    isSub = 'NO'\n",
    "    \n",
    "    s1.lower()\n",
    "    s2.lower()\n",
    "    \n",
    "    for i in s1:\n",
    "        if i in s2:\n",
    "            isSub = 'YES'\n",
    "            return isSub\n",
    "        \n",
    "    return isSub\n"
   ]
  },
  {
   "cell_type": "code",
   "execution_count": 3,
   "metadata": {},
   "outputs": [
    {
     "name": "stdout",
     "output_type": "stream",
     "text": [
      "YES\n"
     ]
    }
   ],
   "source": [
    "s1 = \"Hello\"\n",
    "s2 = \"World\"\n",
    "print(twoStrings(s1,s2))"
   ]
  },
  {
   "cell_type": "code",
   "execution_count": 4,
   "metadata": {},
   "outputs": [
    {
     "name": "stdout",
     "output_type": "stream",
     "text": [
      "NO\n"
     ]
    }
   ],
   "source": [
    "s1 = \"cat\"\n",
    "s2 = \"be\"\n",
    "print(twoStrings(s1,s2))"
   ]
  },
  {
   "cell_type": "code",
   "execution_count": null,
   "metadata": {},
   "outputs": [],
   "source": []
  }
 ],
 "metadata": {
  "kernelspec": {
   "display_name": "Python 3",
   "language": "python",
   "name": "python3"
  },
  "language_info": {
   "codemirror_mode": {
    "name": "ipython",
    "version": 3
   },
   "file_extension": ".py",
   "mimetype": "text/x-python",
   "name": "python",
   "nbconvert_exporter": "python",
   "pygments_lexer": "ipython3",
   "version": "3.7.1"
  }
 },
 "nbformat": 4,
 "nbformat_minor": 2
}
