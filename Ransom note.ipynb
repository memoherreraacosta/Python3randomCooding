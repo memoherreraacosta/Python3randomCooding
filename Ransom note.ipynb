{
 "cells": [
  {
   "cell_type": "code",
   "execution_count": null,
   "metadata": {},
   "outputs": [],
   "source": [
    "'''\n",
    "Complete the checkMagazine function in the editor below. \n",
    "It must print YES if the note can be formed using the magazine, or NO .\n",
    "\n",
    "checkMagazine has the following parameters:\n",
    "\n",
    "magazine: an array of strings, each a word in the magazine\n",
    "note: an array of strings, each a word in the ransom note\n",
    "\n",
    "Input :\n",
    "    give me one grand today night\n",
    "    give one grand today\n",
    "\n",
    "Output :\n",
    "    Yes\n",
    "'''"
   ]
  },
  {
   "cell_type": "code",
   "execution_count": 7,
   "metadata": {},
   "outputs": [],
   "source": [
    "# Complete the checkMagazine function below.\n",
    "def checkMagazine(magazine, note):\n",
    "    canBe = \"Yes\"\n",
    "    dicMag = {}    \n",
    "    \n",
    "    for i in magazine:\n",
    "        if(i not in dicMag):\n",
    "            dicMag[i] = 1\n",
    "        else:\n",
    "            dicMag[i] += 1\n",
    "    \n",
    "    for i in note:\n",
    "        if (i not in dicMag):\n",
    "            return \"No\"\n",
    "\n",
    "        elif(dicMag[i] < 1):\n",
    "            return \"No\"\n",
    "            \n",
    "        else:\n",
    "            dicMag[i] -= 1\n",
    "    \n",
    "    return canBe"
   ]
  },
  {
   "cell_type": "code",
   "execution_count": 9,
   "metadata": {},
   "outputs": [
    {
     "name": "stdout",
     "output_type": "stream",
     "text": [
      "Yes\n"
     ]
    }
   ],
   "source": [
    "magazine = [\"give\",\"me\",\"one\",\"grand\",\"today\",\"night\"] \n",
    "note = [\"give\",\"one\",\"grand\",\"today\"]\n",
    "\n",
    "print(checkMagazine(magazine, note))"
   ]
  },
  {
   "cell_type": "code",
   "execution_count": null,
   "metadata": {},
   "outputs": [],
   "source": []
  }
 ],
 "metadata": {
  "kernelspec": {
   "display_name": "Python 3",
   "language": "python",
   "name": "python3"
  },
  "language_info": {
   "codemirror_mode": {
    "name": "ipython",
    "version": 3
   },
   "file_extension": ".py",
   "mimetype": "text/x-python",
   "name": "python",
   "nbconvert_exporter": "python",
   "pygments_lexer": "ipython3",
   "version": "3.7.1"
  }
 },
 "nbformat": 4,
 "nbformat_minor": 2
}
