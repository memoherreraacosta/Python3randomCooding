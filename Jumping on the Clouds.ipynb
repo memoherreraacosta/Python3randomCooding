{
 "cells": [
  {
   "cell_type": "code",
   "execution_count": null,
   "metadata": {},
   "outputs": [],
   "source": [
    "'''\n",
    "Emma is playing a new mobile game that starts with consecutively numbered clouds. \n",
    "Some of the clouds are thunderheads and others are cumulus. \n",
    "She can jump on any cumulus cloud having a number that is equal to the number \n",
    "of the current cloud plus 1 or 2. \n",
    "She must avoid the thunderheads. Determine the minimum number of jumps \n",
    "it will take Emma to jump from her starting postion to the last cloud. \n",
    "It is always possible to win the game.\n",
    "\n",
    "\n",
    "Complete the jumpingOnClouds function in the editor below. \n",
    "It should return the minimum number of jumps required, as an integer.\n",
    "\n",
    "jumpingOnClouds has the following parameter(s):\n",
    "\n",
    "c: an array of binary integers\n",
    "\n",
    "\n",
    "Input :\n",
    "    7\n",
    "    0 0 1 0 0 1 0\n",
    "    \n",
    "Output :\n",
    "    4\n",
    "'''"
   ]
  },
  {
   "cell_type": "code",
   "execution_count": 10,
   "metadata": {},
   "outputs": [],
   "source": [
    "#!/bin/python3\n",
    "\n",
    "import math\n",
    "import os\n",
    "import random\n",
    "import re\n",
    "import sys\n",
    "\n",
    "# Complete the jumpingOnClouds function below.\n",
    "def jumpingOnClouds(c):\n",
    "    \n",
    "    jumps = 0\n",
    "    l = len(c)\n",
    "    \n",
    "    safe = 0\n",
    "    p = 0 # Pointer\n",
    "    \n",
    "    while( 8 ):\n",
    "        if((p + 2) < l):\n",
    "            if(c[ p + 2 ] == safe):\n",
    "                jumps += 1\n",
    "                p += 2\n",
    "            elif(c[ p + 1 ] == safe):\n",
    "                jumps += 1\n",
    "                p += 1\n",
    "            else:\n",
    "                break\n",
    "                \n",
    "        elif((p + 1)< l):\n",
    "            if(c[ p + 1 ] == safe):\n",
    "                jumps += 1\n",
    "                p += 1\n",
    "            else:\n",
    "                break\n",
    "                \n",
    "        else: \n",
    "            break\n",
    "\n",
    "    return jumps"
   ]
  },
  {
   "cell_type": "code",
   "execution_count": 11,
   "metadata": {},
   "outputs": [
    {
     "name": "stdout",
     "output_type": "stream",
     "text": [
      "4\n"
     ]
    }
   ],
   "source": [
    "n = 7\n",
    "arr = [0, 0, 1, 0, 0, 1, 0]\n",
    "\n",
    "print(jumpingOnClouds(arr))"
   ]
  },
  {
   "cell_type": "code",
   "execution_count": null,
   "metadata": {},
   "outputs": [],
   "source": []
  }
 ],
 "metadata": {
  "kernelspec": {
   "display_name": "Python 3",
   "language": "python",
   "name": "python3"
  },
  "language_info": {
   "codemirror_mode": {
    "name": "ipython",
    "version": 3
   },
   "file_extension": ".py",
   "mimetype": "text/x-python",
   "name": "python",
   "nbconvert_exporter": "python",
   "pygments_lexer": "ipython3",
   "version": "3.7.1"
  }
 },
 "nbformat": 4,
 "nbformat_minor": 2
}
