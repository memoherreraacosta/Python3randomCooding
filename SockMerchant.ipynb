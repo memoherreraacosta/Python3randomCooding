{
 "cells": [
  {
   "cell_type": "code",
   "execution_count": null,
   "metadata": {},
   "outputs": [],
   "source": [
    "'''\n",
    "John works at a clothing store. \n",
    "He has a large pile of socks that he must pair by color for sale. \n",
    "Given an array of integers representing the color of each sock, \n",
    "determine how many pairs of socks with matching colors there are.\n",
    "\n",
    "For example, there are  socks with colors . \n",
    "There is one pair of color  and one of color . \n",
    "There are three odd socks left, one of each color. \n",
    "The number of pairs is .\n",
    "\n",
    "\n",
    "\n",
    "Function Description\n",
    "\n",
    "Complete the sockMerchant function in the editor below. \n",
    "It must return an integer representing the number of matching pairs of socks that are available.\n",
    "\n",
    "sockMerchant has the following parameter(s):\n",
    "\n",
    "n: the number of socks in the pile\n",
    "ar: the colors of each sock\n",
    "\n",
    "\n",
    "Sample Input\n",
    "9\n",
    "10 20 20 10 10 30 50 10 20\n",
    "\n",
    "Sample Output\n",
    "3\n",
    "\n",
    "\n",
    "'''"
   ]
  },
  {
   "cell_type": "code",
   "execution_count": 19,
   "metadata": {},
   "outputs": [
    {
     "name": "stdout",
     "output_type": "stream",
     "text": [
      "3\n",
      "\n"
     ]
    }
   ],
   "source": [
    "#!/bin/python3\n",
    "\n",
    "import math\n",
    "import os\n",
    "import random\n",
    "import re\n",
    "import sys\n",
    "\n",
    "# Complete the sockMerchant function below.\n",
    "def sockMerchant(n, ar):\n",
    "    \n",
    "    # Dictionary of the sockets\n",
    "    dic = {}\n",
    "    \n",
    "    # Number of pairs\n",
    "    pS = 0\n",
    "    \n",
    "    for i in range(n):\n",
    "        try:\n",
    "            if(dic[ar[i]] > 0):\n",
    "                dic[ar[i]] += 1\n",
    "                \n",
    "        except KeyError :\n",
    "            dic[ar[i]] = 1\n",
    "    \n",
    "    for i in dic.values():\n",
    "        pS += int(i/2)\n",
    "        \n",
    "    return pS\n",
    "    \n",
    "\n",
    "if __name__ == '__main__':\n",
    "\n",
    "    #fptr = open(os.environ['OUTPUT_PATH'], 'w')\n",
    "    n = 9 #int(input())\n",
    "    ar = list([10,20,20,10,10,30,50,10,20]) #list(map(int, input().rstrip().split()))\n",
    "    \n",
    "    result = sockMerchant(n, ar)\n",
    "    print(str(result) + '\\n')\n",
    "   \n"
   ]
  },
  {
   "cell_type": "code",
   "execution_count": null,
   "metadata": {},
   "outputs": [],
   "source": []
  }
 ],
 "metadata": {
  "kernelspec": {
   "display_name": "Python 3",
   "language": "python",
   "name": "python3"
  },
  "language_info": {
   "codemirror_mode": {
    "name": "ipython",
    "version": 3
   },
   "file_extension": ".py",
   "mimetype": "text/x-python",
   "name": "python",
   "nbconvert_exporter": "python",
   "pygments_lexer": "ipython3",
   "version": "3.7.1"
  }
 },
 "nbformat": 4,
 "nbformat_minor": 2
}
